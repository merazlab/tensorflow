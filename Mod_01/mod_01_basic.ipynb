{
  "nbformat": 4,
  "nbformat_minor": 0,
  "metadata": {
    "colab": {
      "name": "mod_01_basic.ipynb",
      "provenance": [],
      "authorship_tag": "ABX9TyMUmkdju87MIQZirRdwfGgP",
      "include_colab_link": true
    },
    "kernelspec": {
      "name": "python3",
      "display_name": "Python 3"
    }
  },
  "cells": [
    {
      "cell_type": "markdown",
      "metadata": {
        "id": "view-in-github",
        "colab_type": "text"
      },
      "source": [
        "<a href=\"https://colab.research.google.com/github/merazlab/tensorflow/blob/master/Mod_01/mod_01_basic.ipynb\" target=\"_parent\"><img src=\"https://colab.research.google.com/assets/colab-badge.svg\" alt=\"Open In Colab\"/></a>"
      ]
    },
    {
      "cell_type": "code",
      "metadata": {
        "id": "B0CCrgJVEi-Y",
        "colab_type": "code",
        "colab": {
          "base_uri": "https://localhost:8080/",
          "height": 35
        },
        "outputId": "a54e8765-4315-4154-b3b2-a6a3101d6891"
      },
      "source": [
        "%tensorflow_version 1.x"
      ],
      "execution_count": 1,
      "outputs": [
        {
          "output_type": "stream",
          "text": [
            "TensorFlow 1.x selected.\n"
          ],
          "name": "stdout"
        }
      ]
    },
    {
      "cell_type": "code",
      "metadata": {
        "id": "5Pk9pGP4Ev64",
        "colab_type": "code",
        "colab": {
          "base_uri": "https://localhost:8080/",
          "height": 35
        },
        "outputId": "8ea168ac-d8fc-4a08-f817-2d0c900e8c37"
      },
      "source": [
        "import tensorflow as tf\n",
        "print(tensorflow.__version__)"
      ],
      "execution_count": 4,
      "outputs": [
        {
          "output_type": "stream",
          "text": [
            "1.15.2\n"
          ],
          "name": "stdout"
        }
      ]
    },
    {
      "cell_type": "markdown",
      "metadata": {
        "id": "P6Jc_gnhHsEU",
        "colab_type": "text"
      },
      "source": [
        "What is Tensor?\n",
        "\n",
        "    Tensor is a multi-dimensional array with a uniform data type\n",
        "\n",
        "checks whats data types\n",
        "\n",
        "    tf.dtypes.DType"
      ]
    },
    {
      "cell_type": "code",
      "metadata": {
        "id": "niVETN7LHgK4",
        "colab_type": "code",
        "colab": {
          "base_uri": "https://localhost:8080/",
          "height": 35
        },
        "outputId": "747cbb9d-08da-4de0-f136-43191246008f"
      },
      "source": [
        "a = tf.constant(\"meraz\")\n",
        "print(type(a))"
      ],
      "execution_count": 24,
      "outputs": [
        {
          "output_type": "stream",
          "text": [
            "<class 'tensorflow.python.framework.ops.Tensor'>\n"
          ],
          "name": "stdout"
        }
      ]
    },
    {
      "cell_type": "code",
      "metadata": {
        "id": "-pkfqesuIHPT",
        "colab_type": "code",
        "colab": {
          "base_uri": "https://localhost:8080/",
          "height": 35
        },
        "outputId": "df3e5e1a-2a0d-491d-be30-dfe6adf387e4"
      },
      "source": [
        "print(a)"
      ],
      "execution_count": 25,
      "outputs": [
        {
          "output_type": "stream",
          "text": [
            "Tensor(\"Const_3:0\", shape=(), dtype=string)\n"
          ],
          "name": "stdout"
        }
      ]
    },
    {
      "cell_type": "code",
      "metadata": {
        "id": "c1xbfF8zNz80",
        "colab_type": "code",
        "colab": {
          "base_uri": "https://localhost:8080/",
          "height": 35
        },
        "outputId": "b256e93c-1f60-4d27-985a-7b47f15dbc17"
      },
      "source": [
        "print(a.get_shape())"
      ],
      "execution_count": 26,
      "outputs": [
        {
          "output_type": "stream",
          "text": [
            "()\n"
          ],
          "name": "stdout"
        }
      ]
    },
    {
      "cell_type": "code",
      "metadata": {
        "id": "a60SaafaOH_W",
        "colab_type": "code",
        "colab": {
          "base_uri": "https://localhost:8080/",
          "height": 35
        },
        "outputId": "c6fc246c-72ea-4b63-dce6-8332c3443852"
      },
      "source": [
        "b = tf.constant([1.0, 2.0, 3.0, 4.0])\n",
        "print(a.get_shape())"
      ],
      "execution_count": 30,
      "outputs": [
        {
          "output_type": "stream",
          "text": [
            "()\n"
          ],
          "name": "stdout"
        }
      ]
    },
    {
      "cell_type": "code",
      "metadata": {
        "id": "vJGSslUwIQmR",
        "colab_type": "code",
        "colab": {
          "base_uri": "https://localhost:8080/",
          "height": 35
        },
        "outputId": "0d322ddc-b250-4306-fb78-255e2699e553"
      },
      "source": [
        "with tf.Session() as sess:\n",
        "    out = sess.run(a)\n",
        "    print(out)"
      ],
      "execution_count": 7,
      "outputs": [
        {
          "output_type": "stream",
          "text": [
            "b'meraz'\n"
          ],
          "name": "stdout"
        }
      ]
    },
    {
      "cell_type": "markdown",
      "metadata": {
        "id": "Vr7b9Rh7JI8X",
        "colab_type": "text"
      },
      "source": [
        "#Baics Maths in TF"
      ]
    },
    {
      "cell_type": "code",
      "metadata": {
        "id": "ewn7pLZ8IjWh",
        "colab_type": "code",
        "colab": {}
      },
      "source": [
        "a = tf.constant(5)\n",
        "b = tf.constant(5)\n",
        "c = a+b"
      ],
      "execution_count": 0,
      "outputs": []
    },
    {
      "cell_type": "code",
      "metadata": {
        "id": "DzJCgDo4JfPp",
        "colab_type": "code",
        "colab": {
          "base_uri": "https://localhost:8080/",
          "height": 35
        },
        "outputId": "8068bbf0-68a2-4056-ea73-68a8b3777612"
      },
      "source": [
        "print(c)"
      ],
      "execution_count": 10,
      "outputs": [
        {
          "output_type": "stream",
          "text": [
            "Tensor(\"add:0\", shape=(), dtype=int32)\n"
          ],
          "name": "stdout"
        }
      ]
    },
    {
      "cell_type": "code",
      "metadata": {
        "id": "VRakSo_WJmnh",
        "colab_type": "code",
        "colab": {
          "base_uri": "https://localhost:8080/",
          "height": 35
        },
        "outputId": "8c834fd7-e1e1-45c2-d4ac-e43cba2dd094"
      },
      "source": [
        "with tf.Session() as sess:\n",
        "    out = sess.run(c)\n",
        "    print(out)"
      ],
      "execution_count": 14,
      "outputs": [
        {
          "output_type": "stream",
          "text": [
            "10\n"
          ],
          "name": "stdout"
        }
      ]
    },
    {
      "cell_type": "code",
      "metadata": {
        "id": "UIfh94zAQBLV",
        "colab_type": "code",
        "colab": {}
      },
      "source": [
        "c = tf.constant([[4.0, 5.0], [10.0, 1.0]])\n",
        "\n",
        "# Find the largest value\n",
        "max_val = tf.reduce_max(c)\n",
        "# Find the index of the largest value\n",
        "max_val_index = tf.argmax(c)"
      ],
      "execution_count": 0,
      "outputs": []
    },
    {
      "cell_type": "code",
      "metadata": {
        "id": "-fcI55weQVw_",
        "colab_type": "code",
        "colab": {
          "base_uri": "https://localhost:8080/",
          "height": 35
        },
        "outputId": "8ae66e67-ce57-43e9-d16c-566bfb420759"
      },
      "source": [
        "with tf.Session() as sess: print(sess.run(max_val))"
      ],
      "execution_count": 35,
      "outputs": [
        {
          "output_type": "stream",
          "text": [
            "10.0\n"
          ],
          "name": "stdout"
        }
      ]
    },
    {
      "cell_type": "code",
      "metadata": {
        "id": "JZK-qMXbQ4r-",
        "colab_type": "code",
        "colab": {
          "base_uri": "https://localhost:8080/",
          "height": 35
        },
        "outputId": "961e24b6-8ee5-4028-b438-02f58db2bc41"
      },
      "source": [
        "with tf.Session() as sess: print(sess.run(max_val_index))"
      ],
      "execution_count": 36,
      "outputs": [
        {
          "output_type": "stream",
          "text": [
            "[1 0]\n"
          ],
          "name": "stdout"
        }
      ]
    },
    {
      "cell_type": "markdown",
      "metadata": {
        "id": "hLZGIwugLWUy",
        "colab_type": "text"
      },
      "source": [
        "#Linear Algebra"
      ]
    },
    {
      "cell_type": "code",
      "metadata": {
        "id": "_-ZO1w3YJz1J",
        "colab_type": "code",
        "colab": {
          "base_uri": "https://localhost:8080/",
          "height": 54
        },
        "outputId": "4644c4b8-dd9e-43c4-bd54-2bab41d86eba"
      },
      "source": [
        "random_array = tf.random_normal((2, 3))\n",
        "with tf.Session() as sess: print(sess.run(random_array))"
      ],
      "execution_count": 40,
      "outputs": [
        {
          "output_type": "stream",
          "text": [
            "[[ 0.22922651  0.48307756  2.4761753 ]\n",
            " [-0.23928358  0.06830524 -0.06655082]]\n"
          ],
          "name": "stdout"
        }
      ]
    },
    {
      "cell_type": "code",
      "metadata": {
        "id": "-ANebY8xJ1mZ",
        "colab_type": "code",
        "colab": {
          "base_uri": "https://localhost:8080/",
          "height": 72
        },
        "outputId": "91b0ae6c-0643-4949-e183-c936357dff89"
      },
      "source": [
        "identity_ar = tf.ones((3, 4))\n",
        "with tf.Session() as sess: print(sess.run(identity_ar))"
      ],
      "execution_count": 41,
      "outputs": [
        {
          "output_type": "stream",
          "text": [
            "[[1. 1. 1. 1.]\n",
            " [1. 1. 1. 1.]\n",
            " [1. 1. 1. 1.]]\n"
          ],
          "name": "stdout"
        }
      ]
    },
    {
      "cell_type": "code",
      "metadata": {
        "id": "qSPPQM_DM396",
        "colab_type": "code",
        "colab": {
          "base_uri": "https://localhost:8080/",
          "height": 72
        },
        "outputId": "d4b39855-b837-493f-ce31-2652eb98c244"
      },
      "source": [
        "zeros_ar = tf.ones((3, 4))\n",
        "with tf.Session() as sess: print(sess.run(zeros_ar))"
      ],
      "execution_count": 42,
      "outputs": [
        {
          "output_type": "stream",
          "text": [
            "[[1. 1. 1. 1.]\n",
            " [1. 1. 1. 1.]\n",
            " [1. 1. 1. 1.]]\n"
          ],
          "name": "stdout"
        }
      ]
    },
    {
      "cell_type": "code",
      "metadata": {
        "id": "A_v0qXj4NEYJ",
        "colab_type": "code",
        "colab": {
          "base_uri": "https://localhost:8080/",
          "height": 72
        },
        "outputId": "bd7bf696-35eb-4b40-b8a9-e22b8fef196d"
      },
      "source": [
        "fill_mat = tf.fill((3, 3), 5)\n",
        "identity_ar = tf.ones((3, 4))\n",
        "with tf.Session() as sess: print(sess.run(fill_mat))"
      ],
      "execution_count": 43,
      "outputs": [
        {
          "output_type": "stream",
          "text": [
            "[[5 5 5]\n",
            " [5 5 5]\n",
            " [5 5 5]]\n"
          ],
          "name": "stdout"
        }
      ]
    },
    {
      "cell_type": "code",
      "metadata": {
        "id": "vFnMYs4LTdzr",
        "colab_type": "code",
        "colab": {}
      },
      "source": [
        ""
      ],
      "execution_count": 0,
      "outputs": []
    }
  ]
}