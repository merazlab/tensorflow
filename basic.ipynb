{
  "nbformat": 4,
  "nbformat_minor": 0,
  "metadata": {
    "colab": {
      "name": "basic.ipynb",
      "provenance": [],
      "authorship_tag": "ABX9TyMnyDaN31EODKKeV1gHcNvT",
      "include_colab_link": true
    },
    "kernelspec": {
      "name": "python3",
      "display_name": "Python 3"
    }
  },
  "cells": [
    {
      "cell_type": "markdown",
      "metadata": {
        "id": "view-in-github",
        "colab_type": "text"
      },
      "source": [
        "<a href=\"https://colab.research.google.com/github/merazlab/tensorflow/blob/master/basic.ipynb\" target=\"_parent\"><img src=\"https://colab.research.google.com/assets/colab-badge.svg\" alt=\"Open In Colab\"/></a>"
      ]
    },
    {
      "cell_type": "markdown",
      "metadata": {
        "id": "uw9DkyybldPY",
        "colab_type": "text"
      },
      "source": [
        "#MNIST CNN"
      ]
    },
    {
      "cell_type": "code",
      "metadata": {
        "id": "o6w9Nx37uEkP",
        "colab_type": "code",
        "colab": {
          "base_uri": "https://localhost:8080/",
          "height": 35
        },
        "outputId": "9ccaa3cb-8fdc-4a03-8859-fe6a93b71983"
      },
      "source": [
        "%tensorflow_version 1.x"
      ],
      "execution_count": 1,
      "outputs": [
        {
          "output_type": "stream",
          "text": [
            "TensorFlow 1.x selected.\n"
          ],
          "name": "stdout"
        }
      ]
    },
    {
      "cell_type": "code",
      "metadata": {
        "id": "6mhazaCOuHQ1",
        "colab_type": "code",
        "colab": {
          "base_uri": "https://localhost:8080/",
          "height": 35
        },
        "outputId": "2d9479c6-34a0-49fa-9206-9f0562eda5fd"
      },
      "source": [
        "import tensorflow\n",
        "print(tensorflow.__version__)"
      ],
      "execution_count": 2,
      "outputs": [
        {
          "output_type": "stream",
          "text": [
            "1.15.2\n"
          ],
          "name": "stdout"
        }
      ]
    },
    {
      "cell_type": "code",
      "metadata": {
        "id": "qBJAFAL8lbFs",
        "colab_type": "code",
        "colab": {}
      },
      "source": [
        "import tensorflow as tf"
      ],
      "execution_count": 0,
      "outputs": []
    },
    {
      "cell_type": "code",
      "metadata": {
        "id": "4MJUl2o_lnLJ",
        "colab_type": "code",
        "colab": {
          "base_uri": "https://localhost:8080/",
          "height": 35
        },
        "outputId": "445bea92-89fc-42e4-f546-9038f6ba936d"
      },
      "source": [
        "a = tf.constant(10)\n",
        "b = tf.constant(20)\n",
        "\n",
        "t1 = tf.multiply(a, b)\n",
        "t2 = tf.add(a, b)\n",
        "\n",
        "res = tf.divide(t1, t2)\n",
        "\n",
        "tf.print(res)\n"
      ],
      "execution_count": 4,
      "outputs": [
        {
          "output_type": "execute_result",
          "data": {
            "text/plain": [
              "<tf.Operation 'PrintV2' type=PrintV2>"
            ]
          },
          "metadata": {
            "tags": []
          },
          "execution_count": 4
        }
      ]
    },
    {
      "cell_type": "code",
      "metadata": {
        "id": "jj-pogwBl4D3",
        "colab_type": "code",
        "colab": {
          "base_uri": "https://localhost:8080/",
          "height": 35
        },
        "outputId": "1b1a9eac-f834-49cd-f279-b063c3318be6"
      },
      "source": [
        "with tf.Session() as session:\n",
        "    print(session.run(res))"
      ],
      "execution_count": 6,
      "outputs": [
        {
          "output_type": "stream",
          "text": [
            "6.666666666666667\n"
          ],
          "name": "stdout"
        }
      ]
    },
    {
      "cell_type": "markdown",
      "metadata": {
        "id": "AGu8W3_AuX3-",
        "colab_type": "text"
      },
      "source": [
        "#Variables"
      ]
    },
    {
      "cell_type": "markdown",
      "metadata": {
        "id": "o8fbCfr2wGav",
        "colab_type": "text"
      },
      "source": [
        ""
      ]
    },
    {
      "cell_type": "code",
      "metadata": {
        "id": "L9gj7bJLty3q",
        "colab_type": "code",
        "colab": {}
      },
      "source": [
        "v = tf.get_variable(\"name\", dtype=tf.float32, shape=[2, 3], initializer=tf.random_normal_initializer(stddev=0.1))"
      ],
      "execution_count": 0,
      "outputs": []
    },
    {
      "cell_type": "markdown",
      "metadata": {
        "id": "fM1mQnzxwlW1",
        "colab_type": "text"
      },
      "source": [
        "assign new value in variabel"
      ]
    },
    {
      "cell_type": "code",
      "metadata": {
        "id": "10h4bAt7wL1q",
        "colab_type": "code",
        "colab": {}
      },
      "source": [
        "incremwnt_op = v.assign(v + 1)   #method1"
      ],
      "execution_count": 0,
      "outputs": []
    },
    {
      "cell_type": "code",
      "metadata": {
        "id": "EjcMwsZNw4sw",
        "colab_type": "code",
        "colab": {}
      },
      "source": [
        "incremwnt_op = tf.assign(v, v + 1)   #method1"
      ],
      "execution_count": 0,
      "outputs": []
    },
    {
      "cell_type": "markdown",
      "metadata": {
        "id": "SjPfsXnNxdNq",
        "colab_type": "text"
      },
      "source": [
        "all the variabel must be explicitly initialized before its first use in a seesion\n",
        "\n",
        "you can initialise all variabels in the graph at once as below"
      ]
    },
    {
      "cell_type": "code",
      "metadata": {
        "id": "ihcQudccw8Qo",
        "colab_type": "code",
        "colab": {}
      },
      "source": [
        "create graph()  #include variabels\n",
        "init = tf.global_variables_initializer()\n",
        "\n",
        "with tf.Session as session:\n",
        "    "
      ],
      "execution_count": 0,
      "outputs": []
    },
    {
      "cell_type": "markdown",
      "metadata": {
        "id": "HK6BTwgxzJO2",
        "colab_type": "text"
      },
      "source": [
        "#Placeholders and feeds\n",
        "\n",
        "use for inject data in the graph at the time of exexution"
      ]
    },
    {
      "cell_type": "code",
      "metadata": {
        "id": "6jFOoEipx60Y",
        "colab_type": "code",
        "colab": {
          "base_uri": "https://localhost:8080/",
          "height": 54
        },
        "outputId": "eeaa1de6-2dd0-4811-fd92-03aa4636c8be"
      },
      "source": [
        "a = tf.placeholder(tf.float32, [])\n",
        "b = tf.constant(1.0)\n",
        "c = a + b\n",
        "with tf.Session() as session:\n",
        "    print(session.run(c, feed_dict={a: 3.0}))\n",
        "    print(session.run(c, feed_dict={a: 5.0}))\n"
      ],
      "execution_count": 11,
      "outputs": [
        {
          "output_type": "stream",
          "text": [
            "4.0\n",
            "6.0\n"
          ],
          "name": "stdout"
        }
      ]
    },
    {
      "cell_type": "code",
      "metadata": {
        "id": "4iRJP7tf0dr0",
        "colab_type": "code",
        "colab": {}
      },
      "source": [
        ""
      ],
      "execution_count": 0,
      "outputs": []
    }
  ]
}